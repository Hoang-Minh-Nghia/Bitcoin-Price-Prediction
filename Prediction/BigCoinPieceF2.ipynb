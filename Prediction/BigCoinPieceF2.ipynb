{
  "nbformat": 4,
  "nbformat_minor": 0,
  "metadata": {
    "colab": {
      "name": "BigCoinPieceF2.ipynb",
      "provenance": [],
      "collapsed_sections": []
    },
    "kernelspec": {
      "name": "python3",
      "display_name": "Python 3"
    }
  },
  "cells": [
    {
      "cell_type": "code",
      "metadata": {
        "id": "PI_VceJJ4meg",
        "colab": {
          "base_uri": "https://localhost:8080/"
        },
        "outputId": "98247df6-face-44b9-8430-c3ce4b8ca2c7"
      },
      "source": [
        "from google.colab import drive\n",
        "drive.mount('/content/drive')"
      ],
      "execution_count": null,
      "outputs": [
        {
          "output_type": "stream",
          "text": [
            "Drive already mounted at /content/drive; to attempt to forcibly remount, call drive.mount(\"/content/drive\", force_remount=True).\n"
          ],
          "name": "stdout"
        }
      ]
    },
    {
      "cell_type": "code",
      "metadata": {
        "id": "6qA9YZ0k4ydL"
      },
      "source": [
        "#import thu vien \n",
        "import pandas as pd\n",
        "import numpy as np\n",
        "# import mo hinh\n",
        "from sklearn.linear_model import LogisticRegression\n",
        "\n",
        "# # import model selection - dung de phan chia du lieu tran/test\n",
        "from sklearn.model_selection import train_test_split, StratifiedShuffleSplit\n",
        "\n",
        "# import feature extraction\n",
        "from sklearn.feature_extraction.text import TfidfVectorizer\n",
        "from sklearn.preprocessing import LabelEncoder\n",
        "\n",
        "# Import metric danh gia\n",
        "from sklearn.metrics import accuracy_score, f1_score, confusion_matrix, precision_score, recall_score\n",
        "\n",
        "import seaborn as sn\n",
        "import matplotlib.pyplot as plt"
      ],
      "execution_count": null,
      "outputs": []
    },
    {
      "cell_type": "code",
      "metadata": {
        "id": "fUzjDtuA415h",
        "colab": {
          "base_uri": "https://localhost:8080/",
          "height": 623
        },
        "outputId": "434d8958-2a4b-404b-b97d-ef37bb2f6a9c"
      },
      "source": [
        "data = pd.read_csv('drive/My Drive/Bitcoin_dataset_updated.csv', index_col=False)\n",
        "data_prime = data.copy()\n",
        "data_prime"
      ],
      "execution_count": null,
      "outputs": [
        {
          "output_type": "execute_result",
          "data": {
            "text/html": [
              "<div>\n",
              "<style scoped>\n",
              "    .dataframe tbody tr th:only-of-type {\n",
              "        vertical-align: middle;\n",
              "    }\n",
              "\n",
              "    .dataframe tbody tr th {\n",
              "        vertical-align: top;\n",
              "    }\n",
              "\n",
              "    .dataframe thead th {\n",
              "        text-align: right;\n",
              "    }\n",
              "</style>\n",
              "<table border=\"1\" class=\"dataframe\">\n",
              "  <thead>\n",
              "    <tr style=\"text-align: right;\">\n",
              "      <th></th>\n",
              "      <th>Date</th>\n",
              "      <th>BTC price [USD]</th>\n",
              "      <th>n-transactions</th>\n",
              "      <th>fee [USD]</th>\n",
              "      <th>btc search trends</th>\n",
              "      <th>Gold price[USD]</th>\n",
              "      <th>SP500 close index</th>\n",
              "      <th>Oil WTI price[USD]</th>\n",
              "      <th>M2(Not seasonally adjusted)[1e+09 USD]</th>\n",
              "    </tr>\n",
              "  </thead>\n",
              "  <tbody>\n",
              "    <tr>\n",
              "      <th>0</th>\n",
              "      <td>2014-01-02</td>\n",
              "      <td>749.27</td>\n",
              "      <td>54770.0</td>\n",
              "      <td>0.18</td>\n",
              "      <td>8</td>\n",
              "      <td>1225.0</td>\n",
              "      <td>1831.98</td>\n",
              "      <td>95.14</td>\n",
              "      <td>11089.3</td>\n",
              "    </tr>\n",
              "    <tr>\n",
              "      <th>1</th>\n",
              "      <td>2014-01-03</td>\n",
              "      <td>781.23</td>\n",
              "      <td>60980.0</td>\n",
              "      <td>NaN</td>\n",
              "      <td>8</td>\n",
              "      <td>1238.4</td>\n",
              "      <td>1831.37</td>\n",
              "      <td>93.66</td>\n",
              "      <td>11089.3</td>\n",
              "    </tr>\n",
              "    <tr>\n",
              "      <th>2</th>\n",
              "      <td>2014-01-04</td>\n",
              "      <td>807.39</td>\n",
              "      <td>52052.0</td>\n",
              "      <td>NaN</td>\n",
              "      <td>8</td>\n",
              "      <td>NaN</td>\n",
              "      <td>NaN</td>\n",
              "      <td>NaN</td>\n",
              "      <td>11089.3</td>\n",
              "    </tr>\n",
              "    <tr>\n",
              "      <th>3</th>\n",
              "      <td>2014-01-05</td>\n",
              "      <td>828.74</td>\n",
              "      <td>58662.0</td>\n",
              "      <td>0.38</td>\n",
              "      <td>8</td>\n",
              "      <td>NaN</td>\n",
              "      <td>NaN</td>\n",
              "      <td>NaN</td>\n",
              "      <td>11089.3</td>\n",
              "    </tr>\n",
              "    <tr>\n",
              "      <th>4</th>\n",
              "      <td>2014-01-06</td>\n",
              "      <td>904.98</td>\n",
              "      <td>67358.0</td>\n",
              "      <td>NaN</td>\n",
              "      <td>8</td>\n",
              "      <td>1237.8</td>\n",
              "      <td>1826.77</td>\n",
              "      <td>93.12</td>\n",
              "      <td>11089.3</td>\n",
              "    </tr>\n",
              "    <tr>\n",
              "      <th>...</th>\n",
              "      <td>...</td>\n",
              "      <td>...</td>\n",
              "      <td>...</td>\n",
              "      <td>...</td>\n",
              "      <td>...</td>\n",
              "      <td>...</td>\n",
              "      <td>...</td>\n",
              "      <td>...</td>\n",
              "      <td>...</td>\n",
              "    </tr>\n",
              "    <tr>\n",
              "      <th>2308</th>\n",
              "      <td>2020-04-25</td>\n",
              "      <td>7507.08</td>\n",
              "      <td>280805.0</td>\n",
              "      <td>0.75</td>\n",
              "      <td>16</td>\n",
              "      <td>NaN</td>\n",
              "      <td>NaN</td>\n",
              "      <td>NaN</td>\n",
              "      <td>17269.8</td>\n",
              "    </tr>\n",
              "    <tr>\n",
              "      <th>2309</th>\n",
              "      <td>2020-04-26</td>\n",
              "      <td>7549.52</td>\n",
              "      <td>252833.0</td>\n",
              "      <td>0.62</td>\n",
              "      <td>16</td>\n",
              "      <td>NaN</td>\n",
              "      <td>NaN</td>\n",
              "      <td>NaN</td>\n",
              "      <td>17269.8</td>\n",
              "    </tr>\n",
              "    <tr>\n",
              "      <th>2310</th>\n",
              "      <td>2020-04-27</td>\n",
              "      <td>7699.27</td>\n",
              "      <td>311217.0</td>\n",
              "      <td>0.69</td>\n",
              "      <td>16</td>\n",
              "      <td>1723.8</td>\n",
              "      <td>2878.48</td>\n",
              "      <td>12.17</td>\n",
              "      <td>17269.8</td>\n",
              "    </tr>\n",
              "    <tr>\n",
              "      <th>2311</th>\n",
              "      <td>2020-04-28</td>\n",
              "      <td>7790.66</td>\n",
              "      <td>323475.0</td>\n",
              "      <td>0.66</td>\n",
              "      <td>16</td>\n",
              "      <td>1722.2</td>\n",
              "      <td>2863.39</td>\n",
              "      <td>12.40</td>\n",
              "      <td>17269.8</td>\n",
              "    </tr>\n",
              "    <tr>\n",
              "      <th>2312</th>\n",
              "      <td>2020-04-29</td>\n",
              "      <td>7765.33</td>\n",
              "      <td>331401.0</td>\n",
              "      <td>1.30</td>\n",
              "      <td>16</td>\n",
              "      <td>1713.4</td>\n",
              "      <td>2939.51</td>\n",
              "      <td>15.04</td>\n",
              "      <td>17269.8</td>\n",
              "    </tr>\n",
              "  </tbody>\n",
              "</table>\n",
              "<p>2313 rows × 9 columns</p>\n",
              "</div>"
            ],
            "text/plain": [
              "            Date  ...  M2(Not seasonally adjusted)[1e+09 USD]\n",
              "0     2014-01-02  ...                                 11089.3\n",
              "1     2014-01-03  ...                                 11089.3\n",
              "2     2014-01-04  ...                                 11089.3\n",
              "3     2014-01-05  ...                                 11089.3\n",
              "4     2014-01-06  ...                                 11089.3\n",
              "...          ...  ...                                     ...\n",
              "2308  2020-04-25  ...                                 17269.8\n",
              "2309  2020-04-26  ...                                 17269.8\n",
              "2310  2020-04-27  ...                                 17269.8\n",
              "2311  2020-04-28  ...                                 17269.8\n",
              "2312  2020-04-29  ...                                 17269.8\n",
              "\n",
              "[2313 rows x 9 columns]"
            ]
          },
          "metadata": {
            "tags": []
          },
          "execution_count": 41
        }
      ]
    },
    {
      "cell_type": "code",
      "metadata": {
        "id": "9wRWnihk5Low",
        "colab": {
          "base_uri": "https://localhost:8080/"
        },
        "outputId": "4b50907d-1417-46d3-d947-46d1cbfc3638"
      },
      "source": [
        "data.info()"
      ],
      "execution_count": null,
      "outputs": [
        {
          "output_type": "stream",
          "text": [
            "<class 'pandas.core.frame.DataFrame'>\n",
            "RangeIndex: 2313 entries, 0 to 2312\n",
            "Data columns (total 9 columns):\n",
            " #   Column                                  Non-Null Count  Dtype  \n",
            "---  ------                                  --------------  -----  \n",
            " 0   Date                                    2313 non-null   object \n",
            " 1   BTC price [USD]                         2313 non-null   float64\n",
            " 2   n-transactions                          2313 non-null   float64\n",
            " 3   fee [USD]                               1469 non-null   float64\n",
            " 4   btc search trends                       2313 non-null   int64  \n",
            " 5   Gold price[USD]                         1671 non-null   float64\n",
            " 6   SP500 close index                       1592 non-null   float64\n",
            " 7   Oil WTI price[USD]                      1587 non-null   float64\n",
            " 8   M2(Not seasonally adjusted)[1e+09 USD]  2313 non-null   float64\n",
            "dtypes: float64(7), int64(1), object(1)\n",
            "memory usage: 162.8+ KB\n"
          ],
          "name": "stdout"
        }
      ]
    },
    {
      "cell_type": "code",
      "metadata": {
        "id": "zfZBXC-qfopZ"
      },
      "source": [
        "## Cột  fee [USD], Gold price[USD], SP500 cose index, oil WTI price[USD] bị mất giá trị (giá trị = NaN)"
      ],
      "execution_count": null,
      "outputs": []
    },
    {
      "cell_type": "code",
      "metadata": {
        "id": "D7c-4GSx5N5Z",
        "colab": {
          "base_uri": "https://localhost:8080/"
        },
        "outputId": "46ad9d4a-ff8e-47c5-96ac-f4e491040152"
      },
      "source": [
        "print(\"---So diem du lieu--- \"+ '\\nso dong: ' +str(data.shape[0])+'\\nSo cot: ' + str(data.shape[1]))"
      ],
      "execution_count": null,
      "outputs": [
        {
          "output_type": "stream",
          "text": [
            "---So diem du lieu--- \n",
            "so dong: 2313\n",
            "So cot: 9\n"
          ],
          "name": "stdout"
        }
      ]
    },
    {
      "cell_type": "code",
      "metadata": {
        "id": "lyniTWIJfaf1",
        "colab": {
          "base_uri": "https://localhost:8080/",
          "height": 331
        },
        "outputId": "6581291e-a17e-466b-b4fc-b88e44c18fd8"
      },
      "source": [
        "data.describe()"
      ],
      "execution_count": null,
      "outputs": [
        {
          "output_type": "execute_result",
          "data": {
            "text/html": [
              "<div>\n",
              "<style scoped>\n",
              "    .dataframe tbody tr th:only-of-type {\n",
              "        vertical-align: middle;\n",
              "    }\n",
              "\n",
              "    .dataframe tbody tr th {\n",
              "        vertical-align: top;\n",
              "    }\n",
              "\n",
              "    .dataframe thead th {\n",
              "        text-align: right;\n",
              "    }\n",
              "</style>\n",
              "<table border=\"1\" class=\"dataframe\">\n",
              "  <thead>\n",
              "    <tr style=\"text-align: right;\">\n",
              "      <th></th>\n",
              "      <th>BTC price [USD]</th>\n",
              "      <th>n-transactions</th>\n",
              "      <th>fee [USD]</th>\n",
              "      <th>btc search trends</th>\n",
              "      <th>Gold price[USD]</th>\n",
              "      <th>SP500 close index</th>\n",
              "      <th>Oil WTI price[USD]</th>\n",
              "      <th>M2(Not seasonally adjusted)[1e+09 USD]</th>\n",
              "    </tr>\n",
              "  </thead>\n",
              "  <tbody>\n",
              "    <tr>\n",
              "      <th>count</th>\n",
              "      <td>2313.000000</td>\n",
              "      <td>2313.000000</td>\n",
              "      <td>1469.000000</td>\n",
              "      <td>2313.000000</td>\n",
              "      <td>1671.000000</td>\n",
              "      <td>1592.000000</td>\n",
              "      <td>1587.000000</td>\n",
              "      <td>2313.000000</td>\n",
              "    </tr>\n",
              "    <tr>\n",
              "      <th>mean</th>\n",
              "      <td>3616.144903</td>\n",
              "      <td>214401.246433</td>\n",
              "      <td>2.211995</td>\n",
              "      <td>11.176394</td>\n",
              "      <td>1337.838671</td>\n",
              "      <td>2397.414981</td>\n",
              "      <td>58.587738</td>\n",
              "      <td>13286.782447</td>\n",
              "    </tr>\n",
              "    <tr>\n",
              "      <th>std</th>\n",
              "      <td>3877.083340</td>\n",
              "      <td>96042.289290</td>\n",
              "      <td>5.573905</td>\n",
              "      <td>13.993820</td>\n",
              "      <td>111.052949</td>\n",
              "      <td>402.628295</td>\n",
              "      <td>18.809558</td>\n",
              "      <td>1350.449720</td>\n",
              "    </tr>\n",
              "    <tr>\n",
              "      <th>min</th>\n",
              "      <td>172.000000</td>\n",
              "      <td>47740.000000</td>\n",
              "      <td>0.030000</td>\n",
              "      <td>2.000000</td>\n",
              "      <td>1070.800000</td>\n",
              "      <td>1741.890000</td>\n",
              "      <td>-36.980000</td>\n",
              "      <td>11089.300000</td>\n",
              "    </tr>\n",
              "    <tr>\n",
              "      <th>25%</th>\n",
              "      <td>440.030000</td>\n",
              "      <td>121973.000000</td>\n",
              "      <td>0.220000</td>\n",
              "      <td>3.000000</td>\n",
              "      <td>1272.300000</td>\n",
              "      <td>2058.567500</td>\n",
              "      <td>47.460000</td>\n",
              "      <td>12058.700000</td>\n",
              "    </tr>\n",
              "    <tr>\n",
              "      <th>50%</th>\n",
              "      <td>1056.000000</td>\n",
              "      <td>224394.000000</td>\n",
              "      <td>0.670000</td>\n",
              "      <td>7.000000</td>\n",
              "      <td>1320.900000</td>\n",
              "      <td>2346.590000</td>\n",
              "      <td>53.860000</td>\n",
              "      <td>13467.300000</td>\n",
              "    </tr>\n",
              "    <tr>\n",
              "      <th>75%</th>\n",
              "      <td>6763.750000</td>\n",
              "      <td>291597.000000</td>\n",
              "      <td>1.690000</td>\n",
              "      <td>13.000000</td>\n",
              "      <td>1385.100000</td>\n",
              "      <td>2748.372500</td>\n",
              "      <td>64.535000</td>\n",
              "      <td>14209.700000</td>\n",
              "    </tr>\n",
              "    <tr>\n",
              "      <th>max</th>\n",
              "      <td>19279.900000</td>\n",
              "      <td>490644.000000</td>\n",
              "      <td>54.790000</td>\n",
              "      <td>100.000000</td>\n",
              "      <td>1768.900000</td>\n",
              "      <td>3386.150000</td>\n",
              "      <td>107.950000</td>\n",
              "      <td>17269.800000</td>\n",
              "    </tr>\n",
              "  </tbody>\n",
              "</table>\n",
              "</div>"
            ],
            "text/plain": [
              "       BTC price [USD]  ...  M2(Not seasonally adjusted)[1e+09 USD]\n",
              "count      2313.000000  ...                             2313.000000\n",
              "mean       3616.144903  ...                            13286.782447\n",
              "std        3877.083340  ...                             1350.449720\n",
              "min         172.000000  ...                            11089.300000\n",
              "25%         440.030000  ...                            12058.700000\n",
              "50%        1056.000000  ...                            13467.300000\n",
              "75%        6763.750000  ...                            14209.700000\n",
              "max       19279.900000  ...                            17269.800000\n",
              "\n",
              "[8 rows x 8 columns]"
            ]
          },
          "metadata": {
            "tags": []
          },
          "execution_count": 44
        }
      ]
    },
    {
      "cell_type": "code",
      "metadata": {
        "id": "4TL2PJnv5Spp",
        "colab": {
          "base_uri": "https://localhost:8080/",
          "height": 331
        },
        "outputId": "95d3f9fe-9974-4ce7-bb96-edaf9749eb5f"
      },
      "source": [
        "# Xem tóm tắt các thuộc tính dạng số\n",
        "data.describe()"
      ],
      "execution_count": null,
      "outputs": [
        {
          "output_type": "execute_result",
          "data": {
            "text/html": [
              "<div>\n",
              "<style scoped>\n",
              "    .dataframe tbody tr th:only-of-type {\n",
              "        vertical-align: middle;\n",
              "    }\n",
              "\n",
              "    .dataframe tbody tr th {\n",
              "        vertical-align: top;\n",
              "    }\n",
              "\n",
              "    .dataframe thead th {\n",
              "        text-align: right;\n",
              "    }\n",
              "</style>\n",
              "<table border=\"1\" class=\"dataframe\">\n",
              "  <thead>\n",
              "    <tr style=\"text-align: right;\">\n",
              "      <th></th>\n",
              "      <th>BTC price [USD]</th>\n",
              "      <th>n-transactions</th>\n",
              "      <th>fee [USD]</th>\n",
              "      <th>btc search trends</th>\n",
              "      <th>Gold price[USD]</th>\n",
              "      <th>SP500 close index</th>\n",
              "      <th>Oil WTI price[USD]</th>\n",
              "      <th>M2(Not seasonally adjusted)[1e+09 USD]</th>\n",
              "    </tr>\n",
              "  </thead>\n",
              "  <tbody>\n",
              "    <tr>\n",
              "      <th>count</th>\n",
              "      <td>2313.000000</td>\n",
              "      <td>2313.000000</td>\n",
              "      <td>1469.000000</td>\n",
              "      <td>2313.000000</td>\n",
              "      <td>1671.000000</td>\n",
              "      <td>1592.000000</td>\n",
              "      <td>1587.000000</td>\n",
              "      <td>2313.000000</td>\n",
              "    </tr>\n",
              "    <tr>\n",
              "      <th>mean</th>\n",
              "      <td>3616.144903</td>\n",
              "      <td>214401.246433</td>\n",
              "      <td>2.211995</td>\n",
              "      <td>11.176394</td>\n",
              "      <td>1337.838671</td>\n",
              "      <td>2397.414981</td>\n",
              "      <td>58.587738</td>\n",
              "      <td>13286.782447</td>\n",
              "    </tr>\n",
              "    <tr>\n",
              "      <th>std</th>\n",
              "      <td>3877.083340</td>\n",
              "      <td>96042.289290</td>\n",
              "      <td>5.573905</td>\n",
              "      <td>13.993820</td>\n",
              "      <td>111.052949</td>\n",
              "      <td>402.628295</td>\n",
              "      <td>18.809558</td>\n",
              "      <td>1350.449720</td>\n",
              "    </tr>\n",
              "    <tr>\n",
              "      <th>min</th>\n",
              "      <td>172.000000</td>\n",
              "      <td>47740.000000</td>\n",
              "      <td>0.030000</td>\n",
              "      <td>2.000000</td>\n",
              "      <td>1070.800000</td>\n",
              "      <td>1741.890000</td>\n",
              "      <td>-36.980000</td>\n",
              "      <td>11089.300000</td>\n",
              "    </tr>\n",
              "    <tr>\n",
              "      <th>25%</th>\n",
              "      <td>440.030000</td>\n",
              "      <td>121973.000000</td>\n",
              "      <td>0.220000</td>\n",
              "      <td>3.000000</td>\n",
              "      <td>1272.300000</td>\n",
              "      <td>2058.567500</td>\n",
              "      <td>47.460000</td>\n",
              "      <td>12058.700000</td>\n",
              "    </tr>\n",
              "    <tr>\n",
              "      <th>50%</th>\n",
              "      <td>1056.000000</td>\n",
              "      <td>224394.000000</td>\n",
              "      <td>0.670000</td>\n",
              "      <td>7.000000</td>\n",
              "      <td>1320.900000</td>\n",
              "      <td>2346.590000</td>\n",
              "      <td>53.860000</td>\n",
              "      <td>13467.300000</td>\n",
              "    </tr>\n",
              "    <tr>\n",
              "      <th>75%</th>\n",
              "      <td>6763.750000</td>\n",
              "      <td>291597.000000</td>\n",
              "      <td>1.690000</td>\n",
              "      <td>13.000000</td>\n",
              "      <td>1385.100000</td>\n",
              "      <td>2748.372500</td>\n",
              "      <td>64.535000</td>\n",
              "      <td>14209.700000</td>\n",
              "    </tr>\n",
              "    <tr>\n",
              "      <th>max</th>\n",
              "      <td>19279.900000</td>\n",
              "      <td>490644.000000</td>\n",
              "      <td>54.790000</td>\n",
              "      <td>100.000000</td>\n",
              "      <td>1768.900000</td>\n",
              "      <td>3386.150000</td>\n",
              "      <td>107.950000</td>\n",
              "      <td>17269.800000</td>\n",
              "    </tr>\n",
              "  </tbody>\n",
              "</table>\n",
              "</div>"
            ],
            "text/plain": [
              "       BTC price [USD]  ...  M2(Not seasonally adjusted)[1e+09 USD]\n",
              "count      2313.000000  ...                             2313.000000\n",
              "mean       3616.144903  ...                            13286.782447\n",
              "std        3877.083340  ...                             1350.449720\n",
              "min         172.000000  ...                            11089.300000\n",
              "25%         440.030000  ...                            12058.700000\n",
              "50%        1056.000000  ...                            13467.300000\n",
              "75%        6763.750000  ...                            14209.700000\n",
              "max       19279.900000  ...                            17269.800000\n",
              "\n",
              "[8 rows x 8 columns]"
            ]
          },
          "metadata": {
            "tags": []
          },
          "execution_count": 45
        }
      ]
    },
    {
      "cell_type": "code",
      "metadata": {
        "id": "jYwhwcrFgGjS",
        "colab": {
          "base_uri": "https://localhost:8080/"
        },
        "outputId": "8dd6b8b2-2ce7-4e79-b7e5-057798090a2f"
      },
      "source": [
        "# Tính hệ số tương quan của median_house_value với các thuộc tính khác\n",
        "corr_matrix = data.corr()\n",
        "corr_matrix[\"BTC price [USD]\"].sort_values(ascending=False)"
      ],
      "execution_count": null,
      "outputs": [
        {
          "output_type": "execute_result",
          "data": {
            "text/plain": [
              "BTC price [USD]                           1.000000\n",
              "SP500 close index                         0.854566\n",
              "M2(Not seasonally adjusted)[1e+09 USD]    0.756824\n",
              "btc search trends                         0.731253\n",
              "n-transactions                            0.611812\n",
              "Gold price[USD]                           0.560585\n",
              "fee [USD]                                 0.514952\n",
              "Oil WTI price[USD]                       -0.041544\n",
              "Name: BTC price [USD], dtype: float64"
            ]
          },
          "metadata": {
            "tags": []
          },
          "execution_count": 46
        }
      ]
    },
    {
      "cell_type": "code",
      "metadata": {
        "id": "yRknlsUp7TpL"
      },
      "source": [
        "# Lấy dữ liệu cột date ra\n",
        "data = data.drop('Date',axis=1)\n",
        "data_date = data_prime['Date']\n"
      ],
      "execution_count": null,
      "outputs": []
    },
    {
      "cell_type": "code",
      "metadata": {
        "id": "f8LVE0XY5iJn",
        "colab": {
          "base_uri": "https://localhost:8080/"
        },
        "outputId": "484472ff-c91c-49bb-f9cd-aed7e491b264"
      },
      "source": [
        "# Xử lí mất dữ liệu\n",
        "from sklearn.impute import SimpleImputer\n",
        "imputer = SimpleImputer(strategy=\"median\")              # SimpleImputer áp dụng transformer cho các giá trị bị mất (median : thay giá trị trung bình)\n",
        "encoded = imputer.fit_transform(data)\n",
        "encoded"
      ],
      "execution_count": null,
      "outputs": [
        {
          "output_type": "execute_result",
          "data": {
            "text/plain": [
              "array([[7.49270e+02, 5.47700e+04, 1.80000e-01, ..., 1.83198e+03,\n",
              "        9.51400e+01, 1.10893e+04],\n",
              "       [7.81230e+02, 6.09800e+04, 6.70000e-01, ..., 1.83137e+03,\n",
              "        9.36600e+01, 1.10893e+04],\n",
              "       [8.07390e+02, 5.20520e+04, 6.70000e-01, ..., 2.34659e+03,\n",
              "        5.38600e+01, 1.10893e+04],\n",
              "       ...,\n",
              "       [7.69927e+03, 3.11217e+05, 6.90000e-01, ..., 2.87848e+03,\n",
              "        1.21700e+01, 1.72698e+04],\n",
              "       [7.79066e+03, 3.23475e+05, 6.60000e-01, ..., 2.86339e+03,\n",
              "        1.24000e+01, 1.72698e+04],\n",
              "       [7.76533e+03, 3.31401e+05, 1.30000e+00, ..., 2.93951e+03,\n",
              "        1.50400e+01, 1.72698e+04]])"
            ]
          },
          "metadata": {
            "tags": []
          },
          "execution_count": 48
        }
      ]
    },
    {
      "cell_type": "code",
      "metadata": {
        "id": "unFmiNKD79HM",
        "colab": {
          "base_uri": "https://localhost:8080/",
          "height": 436
        },
        "outputId": "2295e422-df28-4995-ba5a-8cada13819ff"
      },
      "source": [
        "data = pd.DataFrame(encoded,columns = data.columns)\n",
        "data"
      ],
      "execution_count": null,
      "outputs": [
        {
          "output_type": "execute_result",
          "data": {
            "text/html": [
              "<div>\n",
              "<style scoped>\n",
              "    .dataframe tbody tr th:only-of-type {\n",
              "        vertical-align: middle;\n",
              "    }\n",
              "\n",
              "    .dataframe tbody tr th {\n",
              "        vertical-align: top;\n",
              "    }\n",
              "\n",
              "    .dataframe thead th {\n",
              "        text-align: right;\n",
              "    }\n",
              "</style>\n",
              "<table border=\"1\" class=\"dataframe\">\n",
              "  <thead>\n",
              "    <tr style=\"text-align: right;\">\n",
              "      <th></th>\n",
              "      <th>BTC price [USD]</th>\n",
              "      <th>n-transactions</th>\n",
              "      <th>fee [USD]</th>\n",
              "      <th>btc search trends</th>\n",
              "      <th>Gold price[USD]</th>\n",
              "      <th>SP500 close index</th>\n",
              "      <th>Oil WTI price[USD]</th>\n",
              "      <th>M2(Not seasonally adjusted)[1e+09 USD]</th>\n",
              "    </tr>\n",
              "  </thead>\n",
              "  <tbody>\n",
              "    <tr>\n",
              "      <th>0</th>\n",
              "      <td>749.27</td>\n",
              "      <td>54770.0</td>\n",
              "      <td>0.18</td>\n",
              "      <td>8.0</td>\n",
              "      <td>1225.0</td>\n",
              "      <td>1831.98</td>\n",
              "      <td>95.14</td>\n",
              "      <td>11089.3</td>\n",
              "    </tr>\n",
              "    <tr>\n",
              "      <th>1</th>\n",
              "      <td>781.23</td>\n",
              "      <td>60980.0</td>\n",
              "      <td>0.67</td>\n",
              "      <td>8.0</td>\n",
              "      <td>1238.4</td>\n",
              "      <td>1831.37</td>\n",
              "      <td>93.66</td>\n",
              "      <td>11089.3</td>\n",
              "    </tr>\n",
              "    <tr>\n",
              "      <th>2</th>\n",
              "      <td>807.39</td>\n",
              "      <td>52052.0</td>\n",
              "      <td>0.67</td>\n",
              "      <td>8.0</td>\n",
              "      <td>1320.9</td>\n",
              "      <td>2346.59</td>\n",
              "      <td>53.86</td>\n",
              "      <td>11089.3</td>\n",
              "    </tr>\n",
              "    <tr>\n",
              "      <th>3</th>\n",
              "      <td>828.74</td>\n",
              "      <td>58662.0</td>\n",
              "      <td>0.38</td>\n",
              "      <td>8.0</td>\n",
              "      <td>1320.9</td>\n",
              "      <td>2346.59</td>\n",
              "      <td>53.86</td>\n",
              "      <td>11089.3</td>\n",
              "    </tr>\n",
              "    <tr>\n",
              "      <th>4</th>\n",
              "      <td>904.98</td>\n",
              "      <td>67358.0</td>\n",
              "      <td>0.67</td>\n",
              "      <td>8.0</td>\n",
              "      <td>1237.8</td>\n",
              "      <td>1826.77</td>\n",
              "      <td>93.12</td>\n",
              "      <td>11089.3</td>\n",
              "    </tr>\n",
              "    <tr>\n",
              "      <th>...</th>\n",
              "      <td>...</td>\n",
              "      <td>...</td>\n",
              "      <td>...</td>\n",
              "      <td>...</td>\n",
              "      <td>...</td>\n",
              "      <td>...</td>\n",
              "      <td>...</td>\n",
              "      <td>...</td>\n",
              "    </tr>\n",
              "    <tr>\n",
              "      <th>2308</th>\n",
              "      <td>7507.08</td>\n",
              "      <td>280805.0</td>\n",
              "      <td>0.75</td>\n",
              "      <td>16.0</td>\n",
              "      <td>1320.9</td>\n",
              "      <td>2346.59</td>\n",
              "      <td>53.86</td>\n",
              "      <td>17269.8</td>\n",
              "    </tr>\n",
              "    <tr>\n",
              "      <th>2309</th>\n",
              "      <td>7549.52</td>\n",
              "      <td>252833.0</td>\n",
              "      <td>0.62</td>\n",
              "      <td>16.0</td>\n",
              "      <td>1320.9</td>\n",
              "      <td>2346.59</td>\n",
              "      <td>53.86</td>\n",
              "      <td>17269.8</td>\n",
              "    </tr>\n",
              "    <tr>\n",
              "      <th>2310</th>\n",
              "      <td>7699.27</td>\n",
              "      <td>311217.0</td>\n",
              "      <td>0.69</td>\n",
              "      <td>16.0</td>\n",
              "      <td>1723.8</td>\n",
              "      <td>2878.48</td>\n",
              "      <td>12.17</td>\n",
              "      <td>17269.8</td>\n",
              "    </tr>\n",
              "    <tr>\n",
              "      <th>2311</th>\n",
              "      <td>7790.66</td>\n",
              "      <td>323475.0</td>\n",
              "      <td>0.66</td>\n",
              "      <td>16.0</td>\n",
              "      <td>1722.2</td>\n",
              "      <td>2863.39</td>\n",
              "      <td>12.40</td>\n",
              "      <td>17269.8</td>\n",
              "    </tr>\n",
              "    <tr>\n",
              "      <th>2312</th>\n",
              "      <td>7765.33</td>\n",
              "      <td>331401.0</td>\n",
              "      <td>1.30</td>\n",
              "      <td>16.0</td>\n",
              "      <td>1713.4</td>\n",
              "      <td>2939.51</td>\n",
              "      <td>15.04</td>\n",
              "      <td>17269.8</td>\n",
              "    </tr>\n",
              "  </tbody>\n",
              "</table>\n",
              "<p>2313 rows × 8 columns</p>\n",
              "</div>"
            ],
            "text/plain": [
              "      BTC price [USD]  ...  M2(Not seasonally adjusted)[1e+09 USD]\n",
              "0              749.27  ...                                 11089.3\n",
              "1              781.23  ...                                 11089.3\n",
              "2              807.39  ...                                 11089.3\n",
              "3              828.74  ...                                 11089.3\n",
              "4              904.98  ...                                 11089.3\n",
              "...               ...  ...                                     ...\n",
              "2308          7507.08  ...                                 17269.8\n",
              "2309          7549.52  ...                                 17269.8\n",
              "2310          7699.27  ...                                 17269.8\n",
              "2311          7790.66  ...                                 17269.8\n",
              "2312          7765.33  ...                                 17269.8\n",
              "\n",
              "[2313 rows x 8 columns]"
            ]
          },
          "metadata": {
            "tags": []
          },
          "execution_count": 49
        }
      ]
    },
    {
      "cell_type": "code",
      "metadata": {
        "id": "HXAjuPypWV5V"
      },
      "source": [
        "out = data['BTC price [USD]']\n",
        "data = data.drop('BTC price [USD]',axis=1)\n"
      ],
      "execution_count": null,
      "outputs": []
    },
    {
      "cell_type": "code",
      "metadata": {
        "id": "fGSPYgbm8Gah"
      },
      "source": [
        "# Dữ liệu bị mất (NaN) đẫ được thay thế bằng giá trị trung bình"
      ],
      "execution_count": null,
      "outputs": []
    },
    {
      "cell_type": "code",
      "metadata": {
        "id": "SdtbLQ7v9XO6",
        "colab": {
          "base_uri": "https://localhost:8080/"
        },
        "outputId": "3cab8b35-1950-4dd9-e887-b30a68eb72d4"
      },
      "source": [
        "# Số hóa dữ liệu bằng chuối bit nhị phân\n",
        "from sklearn.preprocessing import LabelBinarizer\n",
        "date_encoder = LabelBinarizer()\n",
        "date_encoded = date_encoder.fit_transform(data_date)\n",
        "date_encoded"
      ],
      "execution_count": null,
      "outputs": [
        {
          "output_type": "execute_result",
          "data": {
            "text/plain": [
              "array([[1, 0, 0, ..., 0, 0, 0],\n",
              "       [0, 1, 0, ..., 0, 0, 0],\n",
              "       [0, 0, 1, ..., 0, 0, 0],\n",
              "       ...,\n",
              "       [0, 0, 0, ..., 1, 0, 0],\n",
              "       [0, 0, 0, ..., 0, 1, 0],\n",
              "       [0, 0, 0, ..., 0, 0, 1]])"
            ]
          },
          "metadata": {
            "tags": []
          },
          "execution_count": 51
        }
      ]
    },
    {
      "cell_type": "code",
      "metadata": {
        "id": "tcsOuyL4BDz5"
      },
      "source": [
        "# from sklearn.base import BaseEstimator, TransformerMixin\n",
        "# class DataFrameSelector(BaseEstimator, TransformerMixin):\n",
        "#   def __init__(self, attribute_names):\n",
        "#     self.attribute_names = attribute_names\n",
        "#   def fit(self, X, y=None):\n",
        "#     return self\n",
        "#   def transform(self, X):\n",
        "#     return X[self.attribute_names].values\n"
      ],
      "execution_count": null,
      "outputs": []
    },
    {
      "cell_type": "code",
      "metadata": {
        "id": "erRWXeeWBTaX",
        "colab": {
          "base_uri": "https://localhost:8080/",
          "height": 436
        },
        "outputId": "c76f495b-bf44-4f8d-c053-615e9f1650a2"
      },
      "source": [
        "data1 = data.copy()\n",
        "data1"
      ],
      "execution_count": null,
      "outputs": [
        {
          "output_type": "execute_result",
          "data": {
            "text/html": [
              "<div>\n",
              "<style scoped>\n",
              "    .dataframe tbody tr th:only-of-type {\n",
              "        vertical-align: middle;\n",
              "    }\n",
              "\n",
              "    .dataframe tbody tr th {\n",
              "        vertical-align: top;\n",
              "    }\n",
              "\n",
              "    .dataframe thead th {\n",
              "        text-align: right;\n",
              "    }\n",
              "</style>\n",
              "<table border=\"1\" class=\"dataframe\">\n",
              "  <thead>\n",
              "    <tr style=\"text-align: right;\">\n",
              "      <th></th>\n",
              "      <th>n-transactions</th>\n",
              "      <th>fee [USD]</th>\n",
              "      <th>btc search trends</th>\n",
              "      <th>Gold price[USD]</th>\n",
              "      <th>SP500 close index</th>\n",
              "      <th>Oil WTI price[USD]</th>\n",
              "      <th>M2(Not seasonally adjusted)[1e+09 USD]</th>\n",
              "    </tr>\n",
              "  </thead>\n",
              "  <tbody>\n",
              "    <tr>\n",
              "      <th>0</th>\n",
              "      <td>54770.0</td>\n",
              "      <td>0.18</td>\n",
              "      <td>8.0</td>\n",
              "      <td>1225.0</td>\n",
              "      <td>1831.98</td>\n",
              "      <td>95.14</td>\n",
              "      <td>11089.3</td>\n",
              "    </tr>\n",
              "    <tr>\n",
              "      <th>1</th>\n",
              "      <td>60980.0</td>\n",
              "      <td>0.67</td>\n",
              "      <td>8.0</td>\n",
              "      <td>1238.4</td>\n",
              "      <td>1831.37</td>\n",
              "      <td>93.66</td>\n",
              "      <td>11089.3</td>\n",
              "    </tr>\n",
              "    <tr>\n",
              "      <th>2</th>\n",
              "      <td>52052.0</td>\n",
              "      <td>0.67</td>\n",
              "      <td>8.0</td>\n",
              "      <td>1320.9</td>\n",
              "      <td>2346.59</td>\n",
              "      <td>53.86</td>\n",
              "      <td>11089.3</td>\n",
              "    </tr>\n",
              "    <tr>\n",
              "      <th>3</th>\n",
              "      <td>58662.0</td>\n",
              "      <td>0.38</td>\n",
              "      <td>8.0</td>\n",
              "      <td>1320.9</td>\n",
              "      <td>2346.59</td>\n",
              "      <td>53.86</td>\n",
              "      <td>11089.3</td>\n",
              "    </tr>\n",
              "    <tr>\n",
              "      <th>4</th>\n",
              "      <td>67358.0</td>\n",
              "      <td>0.67</td>\n",
              "      <td>8.0</td>\n",
              "      <td>1237.8</td>\n",
              "      <td>1826.77</td>\n",
              "      <td>93.12</td>\n",
              "      <td>11089.3</td>\n",
              "    </tr>\n",
              "    <tr>\n",
              "      <th>...</th>\n",
              "      <td>...</td>\n",
              "      <td>...</td>\n",
              "      <td>...</td>\n",
              "      <td>...</td>\n",
              "      <td>...</td>\n",
              "      <td>...</td>\n",
              "      <td>...</td>\n",
              "    </tr>\n",
              "    <tr>\n",
              "      <th>2308</th>\n",
              "      <td>280805.0</td>\n",
              "      <td>0.75</td>\n",
              "      <td>16.0</td>\n",
              "      <td>1320.9</td>\n",
              "      <td>2346.59</td>\n",
              "      <td>53.86</td>\n",
              "      <td>17269.8</td>\n",
              "    </tr>\n",
              "    <tr>\n",
              "      <th>2309</th>\n",
              "      <td>252833.0</td>\n",
              "      <td>0.62</td>\n",
              "      <td>16.0</td>\n",
              "      <td>1320.9</td>\n",
              "      <td>2346.59</td>\n",
              "      <td>53.86</td>\n",
              "      <td>17269.8</td>\n",
              "    </tr>\n",
              "    <tr>\n",
              "      <th>2310</th>\n",
              "      <td>311217.0</td>\n",
              "      <td>0.69</td>\n",
              "      <td>16.0</td>\n",
              "      <td>1723.8</td>\n",
              "      <td>2878.48</td>\n",
              "      <td>12.17</td>\n",
              "      <td>17269.8</td>\n",
              "    </tr>\n",
              "    <tr>\n",
              "      <th>2311</th>\n",
              "      <td>323475.0</td>\n",
              "      <td>0.66</td>\n",
              "      <td>16.0</td>\n",
              "      <td>1722.2</td>\n",
              "      <td>2863.39</td>\n",
              "      <td>12.40</td>\n",
              "      <td>17269.8</td>\n",
              "    </tr>\n",
              "    <tr>\n",
              "      <th>2312</th>\n",
              "      <td>331401.0</td>\n",
              "      <td>1.30</td>\n",
              "      <td>16.0</td>\n",
              "      <td>1713.4</td>\n",
              "      <td>2939.51</td>\n",
              "      <td>15.04</td>\n",
              "      <td>17269.8</td>\n",
              "    </tr>\n",
              "  </tbody>\n",
              "</table>\n",
              "<p>2313 rows × 7 columns</p>\n",
              "</div>"
            ],
            "text/plain": [
              "      n-transactions  ...  M2(Not seasonally adjusted)[1e+09 USD]\n",
              "0            54770.0  ...                                 11089.3\n",
              "1            60980.0  ...                                 11089.3\n",
              "2            52052.0  ...                                 11089.3\n",
              "3            58662.0  ...                                 11089.3\n",
              "4            67358.0  ...                                 11089.3\n",
              "...              ...  ...                                     ...\n",
              "2308        280805.0  ...                                 17269.8\n",
              "2309        252833.0  ...                                 17269.8\n",
              "2310        311217.0  ...                                 17269.8\n",
              "2311        323475.0  ...                                 17269.8\n",
              "2312        331401.0  ...                                 17269.8\n",
              "\n",
              "[2313 rows x 7 columns]"
            ]
          },
          "metadata": {
            "tags": []
          },
          "execution_count": 52
        }
      ]
    },
    {
      "cell_type": "code",
      "metadata": {
        "id": "Gv3zSBQ_ho0s",
        "colab": {
          "base_uri": "https://localhost:8080/"
        },
        "outputId": "1e26bad3-9e09-495f-c5a2-144e09075546"
      },
      "source": [
        "data1.info()"
      ],
      "execution_count": null,
      "outputs": [
        {
          "output_type": "stream",
          "text": [
            "<class 'pandas.core.frame.DataFrame'>\n",
            "RangeIndex: 2313 entries, 0 to 2312\n",
            "Data columns (total 7 columns):\n",
            " #   Column                                  Non-Null Count  Dtype  \n",
            "---  ------                                  --------------  -----  \n",
            " 0   n-transactions                          2313 non-null   float64\n",
            " 1   fee [USD]                               2313 non-null   float64\n",
            " 2   btc search trends                       2313 non-null   float64\n",
            " 3   Gold price[USD]                         2313 non-null   float64\n",
            " 4   SP500 close index                       2313 non-null   float64\n",
            " 5   Oil WTI price[USD]                      2313 non-null   float64\n",
            " 6   M2(Not seasonally adjusted)[1e+09 USD]  2313 non-null   float64\n",
            "dtypes: float64(7)\n",
            "memory usage: 126.6 KB\n"
          ],
          "name": "stdout"
        }
      ]
    },
    {
      "cell_type": "code",
      "metadata": {
        "id": "ITqeTozlBc2r",
        "colab": {
          "base_uri": "https://localhost:8080/"
        },
        "outputId": "8a32ee77-12af-4b29-c7e3-794e38cab845"
      },
      "source": [
        "# Thêm giá trị date vào mảng dữ liệu\n",
        "datarray = np.array(data1)\n",
        "d1 =np.append(datarray,date_encoded,1)\n",
        "d1"
      ],
      "execution_count": null,
      "outputs": [
        {
          "output_type": "execute_result",
          "data": {
            "text/plain": [
              "array([[5.47700e+04, 1.80000e-01, 8.00000e+00, ..., 0.00000e+00,\n",
              "        0.00000e+00, 0.00000e+00],\n",
              "       [6.09800e+04, 6.70000e-01, 8.00000e+00, ..., 0.00000e+00,\n",
              "        0.00000e+00, 0.00000e+00],\n",
              "       [5.20520e+04, 6.70000e-01, 8.00000e+00, ..., 0.00000e+00,\n",
              "        0.00000e+00, 0.00000e+00],\n",
              "       ...,\n",
              "       [3.11217e+05, 6.90000e-01, 1.60000e+01, ..., 1.00000e+00,\n",
              "        0.00000e+00, 0.00000e+00],\n",
              "       [3.23475e+05, 6.60000e-01, 1.60000e+01, ..., 0.00000e+00,\n",
              "        1.00000e+00, 0.00000e+00],\n",
              "       [3.31401e+05, 1.30000e+00, 1.60000e+01, ..., 0.00000e+00,\n",
              "        0.00000e+00, 1.00000e+00]])"
            ]
          },
          "metadata": {
            "tags": []
          },
          "execution_count": 54
        }
      ]
    },
    {
      "cell_type": "code",
      "metadata": {
        "id": "a20vQvf8T-w1"
      },
      "source": [
        "X_train, X_test, y_train, y_test = train_test_split(d1, out, random_state=0,test_size=0.25)"
      ],
      "execution_count": null,
      "outputs": []
    },
    {
      "cell_type": "code",
      "metadata": {
        "id": "g2EiMd4aUSrj",
        "colab": {
          "base_uri": "https://localhost:8080/"
        },
        "outputId": "4ab7c744-dff8-48f9-8a11-ff86ee02f606"
      },
      "source": [
        "print(X_train.shape)\n",
        "print(y_train.shape)\n",
        "print(X_test.shape)\n",
        "print(y_test.shape)"
      ],
      "execution_count": null,
      "outputs": [
        {
          "output_type": "stream",
          "text": [
            "(1734, 2317)\n",
            "(1734,)\n",
            "(579, 2317)\n",
            "(579,)\n"
          ],
          "name": "stdout"
        }
      ]
    },
    {
      "cell_type": "code",
      "metadata": {
        "id": "Mb2yeQQ9XFyM",
        "colab": {
          "base_uri": "https://localhost:8080/"
        },
        "outputId": "0386a6e1-90bc-4240-968f-ff3348b9c568"
      },
      "source": [
        "y_train"
      ],
      "execution_count": null,
      "outputs": [
        {
          "output_type": "execute_result",
          "data": {
            "text/plain": [
              "820      414.83\n",
              "1185    1073.09\n",
              "1591    9015.88\n",
              "564      275.47\n",
              "294      384.07\n",
              "         ...   \n",
              "1033     697.23\n",
              "1731    6686.08\n",
              "763      368.46\n",
              "835      429.45\n",
              "1653    6403.18\n",
              "Name: BTC price [USD], Length: 1734, dtype: float64"
            ]
          },
          "metadata": {
            "tags": []
          },
          "execution_count": 58
        }
      ]
    },
    {
      "cell_type": "code",
      "metadata": {
        "id": "zLINF6UOU25L"
      },
      "source": [
        "# Huấn luyện theo LinearRegression()\n",
        "from sklearn.linear_model import LinearRegression\n",
        "model_LinearR = LinearRegression()\n",
        "mymodel_LinearR = model_LinearR.fit(X_train, y_train)\n",
        "# Huấn luyện DecisionTree \n",
        "from sklearn.tree import DecisionTreeRegressor\n",
        "model_DecisionT = DecisionTreeRegressor()\n",
        "mymodel_DecisionT = model_DecisionT.fit(X_train,y_train)"
      ],
      "execution_count": null,
      "outputs": []
    },
    {
      "cell_type": "code",
      "metadata": {
        "colab": {
          "base_uri": "https://localhost:8080/"
        },
        "id": "ZRutuMNjGSD3",
        "outputId": "f170dfcd-9dc3-4502-86aa-e2df0ae2ff18"
      },
      "source": [
        "#do chinh xac DecisionTree\r\n",
        "\r\n",
        "#RMSE DecisionTree\r\n",
        "from sklearn.metrics import mean_squared_error\r\n",
        "y_pred_DecisionT = mymodel_DecisionT.predict(X_test)\r\n",
        "tree_mse = mean_squared_error(y_test, y_pred_DecisionT)\r\n",
        "tree_rmse = np.sqrt(tree_mse)\r\n",
        "print(\"DecisionTree RMSE: \"+str(tree_rmse))\r\n",
        "\r\n",
        "print('Độ chính xác của thuật toán DecisionTree: '+str(mymodel_DecisionT.score(X_test, y_test)))\r\n",
        "#   r2\r\n",
        "from sklearn.metrics import r2_score\r\n",
        "r2_DecisionT = r2_score(y_test, y_pred_DecisionT)\r\n",
        "print('Decision R2: '+ str(r2_DecisionT))\r\n",
        "# explained variance score\r\n",
        "from sklearn.metrics import explained_variance_score\r\n",
        "ev_Decision = explained_variance_score(y_test, y_pred_DecisionT)\r\n",
        "print('Decision explained variance: '+str(ev_Decision))"
      ],
      "execution_count": null,
      "outputs": [
        {
          "output_type": "stream",
          "text": [
            "DecisionTree RMSE: 495.4496769203195\n",
            "Độ chính xác của thuật toán DecisionTree: 0.9835312334605354\n",
            "Decision R2: 0.9835312334605354\n",
            "Decision explained variance: 0.9835751778435041\n"
          ],
          "name": "stdout"
        }
      ]
    },
    {
      "cell_type": "code",
      "metadata": {
        "colab": {
          "base_uri": "https://localhost:8080/"
        },
        "id": "Jsh3oNFRIpW5",
        "outputId": "5b521bf4-bf06-4658-cb85-b039464ae40c"
      },
      "source": [
        "#RMSE LinearGegression\r\n",
        "from sklearn.metrics import mean_squared_error\r\n",
        "y_pred_LinearR = mymodel_LinearR.predict(X_test)\r\n",
        "tree_mse = mean_squared_error(y_test, y_pred_LinearR)\r\n",
        "Linear_rmse = np.sqrt(tree_mse)\r\n",
        "print(\"Linear RMSE:\" + str(Linear_rmse));\r\n",
        "#Dộ chính xác\r\n",
        "print('Độ chính xác của thuật toán LinearRegression: '+str(mymodel_LinearR.score(X_test, y_test)))\r\n",
        "#   r2\r\n",
        "from sklearn.metrics import r2_score\r\n",
        "r2_Linear = r2_score(y_test, y_pred_LinearR)\r\n",
        "print('Linear R2: '+ str(r2_Linear))\r\n",
        "# explained variance score\r\n",
        "from sklearn.metrics import explained_variance_score\r\n",
        "ev_Linear = explained_variance_score(y_test, y_pred_LinearR)\r\n",
        "print('Linear explained variance: '+str(ev_Linear))\r\n",
        "# "
      ],
      "execution_count": null,
      "outputs": [
        {
          "output_type": "stream",
          "text": [
            "Linear RMSE:1415.4267159088004\n",
            "Độ chính xác của thuật toán LinearRegression: 0.8655883999218408\n",
            "Linear R2: 0.8655883999218408\n",
            "Linear explained variance: 0.8655892195469982\n"
          ],
          "name": "stdout"
        }
      ]
    },
    {
      "cell_type": "code",
      "metadata": {
        "colab": {
          "base_uri": "https://localhost:8080/"
        },
        "id": "M7iOeFr3gs8L",
        "outputId": "3e081552-34bf-4d29-f1c8-d94173094b02"
      },
      "source": [
        "#lasso model\r\n",
        "from sklearn import linear_model\r\n",
        "mymodel_lasso = linear_model.Lasso(alpha=0.1)\r\n",
        "mymodel_lasso.fit(X_train, y_train)"
      ],
      "execution_count": null,
      "outputs": [
        {
          "output_type": "stream",
          "text": [
            "/usr/local/lib/python3.6/dist-packages/sklearn/linear_model/_coordinate_descent.py:476: ConvergenceWarning: Objective did not converge. You might want to increase the number of iterations. Duality gap: 263655442.26447216, tolerance: 2610633.987611766\n",
            "  positive)\n"
          ],
          "name": "stderr"
        },
        {
          "output_type": "execute_result",
          "data": {
            "text/plain": [
              "Lasso(alpha=0.1, copy_X=True, fit_intercept=True, max_iter=1000,\n",
              "      normalize=False, positive=False, precompute=False, random_state=None,\n",
              "      selection='cyclic', tol=0.0001, warm_start=False)"
            ]
          },
          "metadata": {
            "tags": []
          },
          "execution_count": 26
        }
      ]
    },
    {
      "cell_type": "code",
      "metadata": {
        "colab": {
          "base_uri": "https://localhost:8080/"
        },
        "id": "XLlTZIwrhUcN",
        "outputId": "04a7d023-7599-4c2c-85fd-10cb153accd8"
      },
      "source": [
        "#Đánh giá lasso model\r\n",
        "from sklearn.metrics import mean_squared_error\r\n",
        "y_pred_lasso = mymodel_lasso.predict(X_test)\r\n",
        "tree_mse = mean_squared_error(y_test, y_pred_LinearR)\r\n",
        "lasso_rmse = np.sqrt(tree_mse)\r\n",
        "print(\"Lasso RMSE:\" + str(lasso_rmse));\r\n",
        "#Dộ chính xác\r\n",
        "print('Độ chính xác của thuật toán lasso: '+str(mymodel_lasso.score(X_test, y_test)))\r\n",
        "#   r2\r\n",
        "from sklearn.metrics import r2_score\r\n",
        "r2_lasso = r2_score(y_test, y_pred_lasso)\r\n",
        "print('Linear R2: '+ str(r2_lasso))\r\n",
        "# explained variance score\r\n",
        "from sklearn.metrics import explained_variance_score\r\n",
        "ev_lasso = explained_variance_score(y_test, y_pred_lasso)\r\n",
        "print('lasso explained variance: '+str(ev_lasso))"
      ],
      "execution_count": null,
      "outputs": [
        {
          "output_type": "stream",
          "text": [
            "Lasso RMSE:1415.4267159088004\n",
            "Độ chính xác của thuật toán lasso: 0.8549962141499554\n",
            "Linear R2: 0.8549962141499554\n",
            "Linear explained variance: 0.8554098197692016\n"
          ],
          "name": "stdout"
        }
      ]
    },
    {
      "cell_type": "code",
      "metadata": {
        "colab": {
          "base_uri": "https://localhost:8080/"
        },
        "id": "ok-uiG0Gify1",
        "outputId": "98ac992c-7220-4aba-8a13-87efc8dae1e9"
      },
      "source": [
        "from sklearn import linear_model\r\n",
        "mymodel_Bayes = linear_model.BayesianRidge()\r\n",
        "mymodel_Bayes.fit(X_train, y_train)\r\n"
      ],
      "execution_count": null,
      "outputs": [
        {
          "output_type": "execute_result",
          "data": {
            "text/plain": [
              "BayesianRidge(alpha_1=1e-06, alpha_2=1e-06, alpha_init=None,\n",
              "              compute_score=False, copy_X=True, fit_intercept=True,\n",
              "              lambda_1=1e-06, lambda_2=1e-06, lambda_init=None, n_iter=300,\n",
              "              normalize=False, tol=0.001, verbose=False)"
            ]
          },
          "metadata": {
            "tags": []
          },
          "execution_count": 29
        }
      ]
    },
    {
      "cell_type": "code",
      "metadata": {
        "colab": {
          "base_uri": "https://localhost:8080/"
        },
        "id": "NvTSEZppiu9x",
        "outputId": "1eb8e961-c4e6-4786-8402-8fc5142219eb"
      },
      "source": [
        "#Đánh giá Bayes model\r\n",
        "from sklearn.metrics import mean_squared_error\r\n",
        "y_pred_Bayes = mymodel_Bayes.predict(X_test)\r\n",
        "tree_mse = mean_squared_error(y_test, y_pred_Bayes)\r\n",
        "Bayes_rmse = np.sqrt(tree_mse)\r\n",
        "print(\"Bayes RMSE:\" + str(Bayes_rmse));\r\n",
        "#Dộ chính xác\r\n",
        "print('Độ chính xác của thuật toán Bayes: '+str(mymodel_Bayes.score(X_test, y_test)))\r\n",
        "#   r2\r\n",
        "from sklearn.metrics import r2_score\r\n",
        "r2_Bayes = r2_score(y_test, y_pred_Bayes)\r\n",
        "print('Bayes R2: '+ str(r2_Bayes))\r\n",
        "# explained variance score\r\n",
        "from sklearn.metrics import explained_variance_score\r\n",
        "ev_Bayes = explained_variance_score(y_test, y_pred_Bayes)\r\n",
        "print('Bayes explained variance: '+str(ev_Bayes))"
      ],
      "execution_count": null,
      "outputs": [
        {
          "output_type": "stream",
          "text": [
            "Bayes RMSE:1424.799739705657\n",
            "Độ chính xác của thuật toán Bayes: 0.8638023456065026\n",
            "Bayes R2: 0.8638023456065026\n",
            "Bayes explained variance: 0.863804100603259\n"
          ],
          "name": "stdout"
        }
      ]
    },
    {
      "cell_type": "markdown",
      "metadata": {
        "id": "3fTnWwa3hUOO"
      },
      "source": [
        ""
      ]
    },
    {
      "cell_type": "code",
      "metadata": {
        "id": "2cTIr2_cL-ce"
      },
      "source": [
        "################################### TEST TINH CHINH MO HINH #####################################"
      ],
      "execution_count": null,
      "outputs": []
    },
    {
      "cell_type": "code",
      "metadata": {
        "colab": {
          "base_uri": "https://localhost:8080/"
        },
        "id": "RsgtzyIDLzEI",
        "outputId": "709b5234-6e62-44d5-fe15-e0be332d2593"
      },
      "source": [
        "\r\n",
        "# grid search Ridge model on the auto insurance dataset\r\n",
        "from pandas import read_csv\r\n",
        "from sklearn.linear_model import Ridge\r\n",
        "from sklearn.model_selection import RepeatedKFold\r\n",
        "from sklearn.model_selection import GridSearchCV\r\n",
        "# define model\r\n",
        "model = Ridge()\r\n",
        "# define evaluation\r\n",
        "cv = RepeatedKFold(n_splits=10, n_repeats=3, random_state=1)\r\n",
        "# define search space\r\n",
        "space = dict()\r\n",
        "space['solver'] = ['svd', 'cholesky', 'lsqr']\r\n",
        "space['alpha'] = [1e-5, 1e-4, 1e-3, 1e-2, 1e-1, 1, 10, 100]\r\n",
        "space['fit_intercept'] = [True]\r\n",
        "space['normalize'] = [False]\r\n",
        "# define search\r\n",
        "search = GridSearchCV(model, space, scoring='r2', n_jobs=-1, cv=cv)\r\n",
        "# execute search\r\n",
        "result = search.fit(X_train, y_train)\r\n",
        "# summarize result\r\n",
        "print('Best Score: %s' % result.best_score_)\r\n",
        "print('Best Hyperparameters: %s' % result.best_params_)"
      ],
      "execution_count": null,
      "outputs": [
        {
          "output_type": "stream",
          "text": [
            "/usr/local/lib/python3.6/dist-packages/joblib/externals/loky/process_executor.py:691: UserWarning: A worker stopped while some jobs were given to the executor. This can be caused by a too short worker timeout or by a memory leak.\n",
            "  \"timeout or by a memory leak.\", UserWarning\n"
          ],
          "name": "stderr"
        },
        {
          "output_type": "stream",
          "text": [
            "Best Score: 0.8600785830654148\n",
            "Best Hyperparameters: {'alpha': 1e-05, 'fit_intercept': True, 'normalize': False, 'solver': 'svd'}\n"
          ],
          "name": "stdout"
        }
      ]
    },
    {
      "cell_type": "code",
      "metadata": {
        "id": "BRY-Yd3KV19i",
        "colab": {
          "base_uri": "https://localhost:8080/"
        },
        "outputId": "cc16bc89-a3e4-4968-eb6b-8ff608c26c3e"
      },
      "source": [
        "from sklearn.metrics import mean_squared_error\r\n",
        "y_pred_Ridge = result.predict(X_test)\r\n",
        "tree_mse = mean_squared_error(y_test, y_pred_Ridge)\r\n",
        "Ridge_rmse = np.sqrt(tree_mse)\r\n",
        "print(\"Ridge RMSE:\" + str(Ridge_rmse));\r\n",
        "#Dộ chính xác\r\n",
        "print('Độ chính xác của thuật toán Ridge: '+str(result.score(X_test, y_test)))\r\n",
        "#   r2\r\n",
        "from sklearn.metrics import r2_score\r\n",
        "r2_Ridge = r2_score(y_test, y_pred_Ridge)\r\n",
        "print('Ridge R2: '+ str(r2_Ridge))\r\n",
        "# explained variance score\r\n",
        "from sklearn.metrics import explained_variance_score\r\n",
        "ev_Ridge = explained_variance_score(y_test, y_pred_Ridge)\r\n",
        "print('Ridge explained variance: '+str(ev_Ridge))"
      ],
      "execution_count": null,
      "outputs": [
        {
          "output_type": "stream",
          "text": [
            "Ridge RMSE:1416.513445757502\n",
            "Độ chính xác của thuật toán Ridge: 0.865381924842197\n",
            "Ridge R2: 0.865381924842197\n",
            "Ridge explained variance: 0.865385305580427\n"
          ],
          "name": "stdout"
        }
      ]
    },
    {
      "cell_type": "code",
      "metadata": {
        "colab": {
          "base_uri": "https://localhost:8080/"
        },
        "id": "CPkDxmiIoe9U",
        "outputId": "f525d315-3d9c-422b-971d-3e52fa24136a"
      },
      "source": [
        "#GridSearchCV cho linear regression\r\n",
        "from pandas import read_csv\r\n",
        "from sklearn.linear_model import Ridge\r\n",
        "from sklearn.model_selection import RepeatedKFold\r\n",
        "from sklearn.model_selection import GridSearchCV\r\n",
        "from sklearn.linear_model import LinearRegression\r\n",
        "model = LinearRegression()\r\n",
        "parameters = {'fit_intercept':[True,False], 'normalize':[True,False], 'copy_X':[True, False]}\r\n",
        "grid = GridSearchCV(model,parameters, cv=None, scoring='r2')\r\n",
        "result=grid.fit(X_train, y_train)\r\n",
        "print('Best Score: %s' % result.best_score_)\r\n",
        "print('Best Hyperparameters: %s' % result.best_params_)"
      ],
      "execution_count": null,
      "outputs": [
        {
          "output_type": "stream",
          "text": [
            "Best Score: 0.85508107631206\n",
            "Best Hyperparameters: {'copy_X': True, 'fit_intercept': True, 'normalize': False}\n"
          ],
          "name": "stdout"
        }
      ]
    },
    {
      "cell_type": "code",
      "metadata": {
        "id": "Nijk5L-HqEYP"
      },
      "source": [
        "from sklearn.linear_model import LinearRegression\r\n",
        "model_LinearR = LinearRegression(copy_X=True, fit_intercept=True, normalize=True)\r\n",
        "mymodel_LinearR = model_LinearR.fit(X_train, y_train)"
      ],
      "execution_count": null,
      "outputs": []
    },
    {
      "cell_type": "code",
      "metadata": {
        "id": "rkqYFA3K0Txe"
      },
      "source": [
        "X_train, X_test, y_train, y_test = train_test_split(d1, out, random_state=0,test_size=0.25)"
      ],
      "execution_count": null,
      "outputs": []
    },
    {
      "cell_type": "code",
      "metadata": {
        "colab": {
          "base_uri": "https://localhost:8080/"
        },
        "id": "pFM6MsTKqAGp",
        "outputId": "bb1f627b-86c3-4331-9ebe-ceeb7ed54320"
      },
      "source": [
        "from sklearn.metrics import mean_squared_error\r\n",
        "y_pred_LinearR = mymodel_LinearR.predict(X_test)\r\n",
        "tree_mse = mean_squared_error(y_test, y_pred_LinearR)\r\n",
        "Linear_rmse = np.sqrt(tree_mse)\r\n",
        "print(\"Linear RMSE:\" + str(Linear_rmse));\r\n",
        "#Dộ chính xác\r\n",
        "print('Độ chính xác của thuật toán LinearRegression: '+str(mymodel_LinearR.score(X_test, y_test)))\r\n",
        "#   r2\r\n",
        "from sklearn.metrics import r2_score\r\n",
        "r2_Linear = r2_score(y_test, y_pred_LinearR)\r\n",
        "print('Linear R2: '+ str(r2_Linear))\r\n",
        "# explained variance score\r\n",
        "from sklearn.metrics import explained_variance_score\r\n",
        "ev_Linear = explained_variance_score(y_test, y_pred_LinearR)\r\n",
        "print('Linear explained variance: '+str(ev_Linear))"
      ],
      "execution_count": null,
      "outputs": [
        {
          "output_type": "stream",
          "text": [
            "Linear RMSE:2103.2422373523877\n",
            "Độ chính xác của thuật toán LinearRegression: 0.70321594568779\n",
            "Linear R2: 0.70321594568779\n",
            "Linear explained variance: 0.7036292314594204\n"
          ],
          "name": "stdout"
        }
      ]
    },
    {
      "cell_type": "code",
      "metadata": {
        "id": "GFXthWXTu0kg"
      },
      "source": [
        "###### GridSearchCV DecisionTree ###########\r\n",
        "from sklearn.tree import DecisionTreeRegressor\r\n",
        "model_DecisionT = DecisionTreeRegressor(max_depth=2, criterion='mae',splitter='best')\r\n",
        "mymodel_DecisionT = model_DecisionT.fit(X_train,y_train)"
      ],
      "execution_count": null,
      "outputs": []
    },
    {
      "cell_type": "code",
      "metadata": {
        "colab": {
          "base_uri": "https://localhost:8080/"
        },
        "id": "T8OWGSpC_P8u",
        "outputId": "6fe0afeb-015e-4aa0-802d-2db8e1597814"
      },
      "source": [
        "from sklearn.metrics import mean_squared_error\r\n",
        "y_pred_DecisionT = mymodel_DecisionT.predict(X_test)\r\n",
        "tree_mse = mean_squared_error(y_test, y_pred_DecisionT)\r\n",
        "tree_rmse = np.sqrt(tree_mse)\r\n",
        "print(\"DecisionTree RMSE: \"+str(tree_rmse))\r\n",
        "\r\n",
        "print('Độ chính xác của thuật toán DecisionTree: '+str(mymodel_DecisionT.score(X_test, y_test)))\r\n",
        "#   r2\r\n",
        "from sklearn.metrics import r2_score\r\n",
        "r2_DecisionT = r2_score(y_test, y_pred_DecisionT)\r\n",
        "print('Decision R2: '+ str(r2_DecisionT))\r\n",
        "# explained variance score\r\n",
        "from sklearn.metrics import explained_variance_score\r\n",
        "ev_Decision = explained_variance_score(y_test, y_pred_DecisionT)\r\n",
        "print('Decision explained variance: '+str(ev_Decision))"
      ],
      "execution_count": null,
      "outputs": [
        {
          "output_type": "stream",
          "text": [
            "DecisionTree RMSE: 1395.5453748053437\n",
            "Độ chính xác của thuật toán DecisionTree: 0.8693378207204853\n",
            "Decision R2: 0.8693378207204853\n",
            "Decision explained variance: 0.8693394247380879\n"
          ],
          "name": "stdout"
        }
      ]
    },
    {
      "cell_type": "code",
      "metadata": {
        "colab": {
          "base_uri": "https://localhost:8080/"
        },
        "id": "F8_kb8lN_uht",
        "outputId": "c3083436-f771-4039-eef6-f783908dc77e"
      },
      "source": [
        "from sklearn.tree import DecisionTreeRegressor\r\n",
        "from sklearn.model_selection import RepeatedKFold\r\n",
        "from sklearn.model_selection import GridSearchCV\r\n",
        "\r\n",
        "model = DecisionTreeRegressor()\r\n",
        "# define evaluation\r\n",
        "cv = 10\r\n",
        "# define search space\r\n",
        "space = dict()\r\n",
        "space['max_depth'] = [1,2,3,4,5,6,7,8,9,10]\r\n",
        "space['criterion'] = ['friedman_mse','mse','mae','poisson']\r\n",
        "space['max_leaf_nodes'] = [2,3,4,5,6,7,8,9,10]\r\n",
        "# define search\r\n",
        "search = GridSearchCV(model, space, scoring='r2', n_jobs=-1, cv=cv)\r\n",
        "# execute search\r\n",
        "result = search.fit(X_train, y_train)\r\n",
        "# summarize result\r\n",
        "print('Best Score: %s' % result.best_score_)\r\n",
        "print('Best Hyperparameters: %s' % result.best_params_)"
      ],
      "execution_count": null,
      "outputs": [
        {
          "output_type": "stream",
          "text": [
            "Best Score: 0.9784232370432513\n",
            "Best Hyperparameters: {'criterion': 'friedman_mse', 'max_depth': 10}\n"
          ],
          "name": "stdout"
        }
      ]
    },
    {
      "cell_type": "code",
      "metadata": {
        "id": "_DpUCISI23dh"
      },
      "source": [
        "X_train, X_test, y_train, y_test = train_test_split(d1, out, random_state=0,test_size=0.25)"
      ],
      "execution_count": null,
      "outputs": []
    },
    {
      "cell_type": "code",
      "metadata": {
        "id": "Rn4qTyGQ2DwP"
      },
      "source": [
        "from sklearn.tree import DecisionTreeRegressor\r\n",
        "model = DecisionTreeRegressor(max_depth=1, criterion='friedman_mse')\r\n",
        "result=model.fit(X_train, y_train)"
      ],
      "execution_count": null,
      "outputs": []
    },
    {
      "cell_type": "code",
      "metadata": {
        "colab": {
          "base_uri": "https://localhost:8080/"
        },
        "id": "I7Za7o7PCYv8",
        "outputId": "9ed0bb9c-8765-461c-d203-22fa780be3fc"
      },
      "source": [
        "from sklearn.metrics import mean_squared_error\r\n",
        "y_pred_DecisionT = result.predict(X_test)\r\n",
        "tree_mse = mean_squared_error(y_test, y_pred_DecisionT)\r\n",
        "tree_rmse = np.sqrt(tree_mse)\r\n",
        "print(\"DecisionTree RMSE: \"+str(tree_rmse))\r\n",
        "\r\n",
        "print('Độ chính xác của thuật toán DecisionTree: '+str(result.score(X_test, y_test)))\r\n",
        "#   r2\r\n",
        "from sklearn.metrics import r2_score\r\n",
        "r2_DecisionT = r2_score(y_test, y_pred_DecisionT)\r\n",
        "print('Decision R2: '+ str(r2_DecisionT))\r\n",
        "# explained variance score\r\n",
        "from sklearn.metrics import explained_variance_score\r\n",
        "ev_Decision = explained_variance_score(y_test, y_pred_DecisionT)\r\n",
        "print('Decision explained variance: '+str(ev_Decision))"
      ],
      "execution_count": null,
      "outputs": [
        {
          "output_type": "stream",
          "text": [
            "DecisionTree RMSE: 1875.4144832794727\n",
            "Độ chính xác của thuật toán DecisionTree: 0.7640301561273879\n",
            "Decision R2: 0.7640301561273879\n",
            "Decision explained variance: 0.7641068352498344\n"
          ],
          "name": "stdout"
        }
      ]
    },
    {
      "cell_type": "code",
      "metadata": {
        "id": "UiYFUQuSMAPK"
      },
      "source": [
        "##############################################################################################################"
      ],
      "execution_count": null,
      "outputs": []
    },
    {
      "cell_type": "code",
      "metadata": {
        "colab": {
          "base_uri": "https://localhost:8080/",
          "height": 197
        },
        "id": "IC6LER2UQAWt",
        "outputId": "94c04081-500c-46c7-bb96-a8d8520440a9"
      },
      "source": [
        "#Ridge model\r\n",
        "from sklearn.linear_model import Ridge\r\n",
        "mymodel_Ridge = Ridge(alpha=1e-2,solver='sag',fit_intercept=False, normalize=True)\r\n",
        "mymodel_Ridge.fit(X_train, y_train)"
      ],
      "execution_count": null,
      "outputs": [
        {
          "output_type": "error",
          "ename": "NameError",
          "evalue": "ignored",
          "traceback": [
            "\u001b[0;31m---------------------------------------------------------------------------\u001b[0m",
            "\u001b[0;31mNameError\u001b[0m                                 Traceback (most recent call last)",
            "\u001b[0;32m<ipython-input-1-431fc19c339e>\u001b[0m in \u001b[0;36m<module>\u001b[0;34m()\u001b[0m\n\u001b[1;32m      2\u001b[0m \u001b[0;32mfrom\u001b[0m \u001b[0msklearn\u001b[0m\u001b[0;34m.\u001b[0m\u001b[0mlinear_model\u001b[0m \u001b[0;32mimport\u001b[0m \u001b[0mRidge\u001b[0m\u001b[0;34m\u001b[0m\u001b[0;34m\u001b[0m\u001b[0m\n\u001b[1;32m      3\u001b[0m \u001b[0mmymodel_Ridge\u001b[0m \u001b[0;34m=\u001b[0m \u001b[0mRidge\u001b[0m\u001b[0;34m(\u001b[0m\u001b[0malpha\u001b[0m\u001b[0;34m=\u001b[0m\u001b[0;36m1e-2\u001b[0m\u001b[0;34m,\u001b[0m\u001b[0msolver\u001b[0m\u001b[0;34m=\u001b[0m\u001b[0;34m'sag'\u001b[0m\u001b[0;34m,\u001b[0m\u001b[0mfit_intercept\u001b[0m\u001b[0;34m=\u001b[0m\u001b[0;32mFalse\u001b[0m\u001b[0;34m,\u001b[0m \u001b[0mnormalize\u001b[0m\u001b[0;34m=\u001b[0m\u001b[0;32mTrue\u001b[0m\u001b[0;34m)\u001b[0m\u001b[0;34m\u001b[0m\u001b[0;34m\u001b[0m\u001b[0m\n\u001b[0;32m----> 4\u001b[0;31m \u001b[0mmymodel_Ridge\u001b[0m\u001b[0;34m.\u001b[0m\u001b[0mfit\u001b[0m\u001b[0;34m(\u001b[0m\u001b[0mX_train\u001b[0m\u001b[0;34m,\u001b[0m \u001b[0my_train\u001b[0m\u001b[0;34m)\u001b[0m\u001b[0;34m\u001b[0m\u001b[0;34m\u001b[0m\u001b[0m\n\u001b[0m",
            "\u001b[0;31mNameError\u001b[0m: name 'X_train' is not defined"
          ]
        }
      ]
    },
    {
      "cell_type": "code",
      "metadata": {
        "colab": {
          "base_uri": "https://localhost:8080/"
        },
        "id": "AIEOLVQLQteR",
        "outputId": "0bb89bda-19bf-48d2-af05-78be2971b792"
      },
      "source": [
        "#Đánh giá Ridge\r\n",
        "from sklearn.metrics import mean_squared_error\r\n",
        "y_pred_Ridge = mymodel_Ridge.predict(X_test)\r\n",
        "tree_mse = mean_squared_error(y_test, y_pred_Ridge)\r\n",
        "Ridge_rmse = np.sqrt(tree_mse)\r\n",
        "print(\"Ridge RMSE:\" + str(Ridge_rmse));\r\n",
        "#Dộ chính xác\r\n",
        "print('Độ chính xác của thuật toán Ridge: '+str(mymodel_Ridge.score(X_test, y_test)))\r\n",
        "#   r2\r\n",
        "from sklearn.metrics import r2_score\r\n",
        "r2_Ridge = r2_score(y_test, y_pred_Ridge)\r\n",
        "print('Ridge R2: '+ str(r2_Ridge))\r\n",
        "# explained variance score\r\n",
        "from sklearn.metrics import explained_variance_score\r\n",
        "ev_Ridge = explained_variance_score(y_test, y_pred_Ridge)\r\n",
        "print('Ridge explained variance: '+str(ev_Ridge))"
      ],
      "execution_count": null,
      "outputs": [
        {
          "output_type": "stream",
          "text": [
            "Ridge RMSE:3150.6288966608845\n",
            "Độ chính xác của thuật toán Ridge: 0.3340272215783401\n",
            "Ridge R2: 0.3340272215783401\n",
            "Ridge explained variance: 0.33573075585759304\n"
          ],
          "name": "stdout"
        }
      ]
    },
    {
      "cell_type": "code",
      "metadata": {
        "id": "1rjTDevHHyh8"
      },
      "source": [
        "############## HẾT ###################"
      ],
      "execution_count": null,
      "outputs": []
    }
  ]
}